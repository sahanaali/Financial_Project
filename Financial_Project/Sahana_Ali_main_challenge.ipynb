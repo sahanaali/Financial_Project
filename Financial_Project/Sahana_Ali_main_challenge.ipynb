{
 "cells": [
  {
   "cell_type": "markdown",
   "metadata": {},
   "source": [
    "## Overview"
   ]
  },
  {
   "cell_type": "markdown",
   "metadata": {},
   "source": [
    "Given various stocks and then are also given an ETF. However, when you open up the data, you will notice that the data is a little messy. Your first job is to clean the data before you work with it. Your goal for this problem is to find all potential mispricings in the ETF and areas where you can capture a profitable position. After you have finished, you are required to summarize your thought process behind your code. Your goal is not to calculate the profit and loss of your trades, but track the places where you see a opportunity to profit. (This could be having a short or long position). A completed project would consist of the following:\n",
    "- Graph of ETF with blue and red arrows indicating where you would ideally enter a position or close a position.\n",
    "- Summary describing what specific types of traders would be ideal in that situation and where you think the ETF was mispriced. "
   ]
  },
  {
   "cell_type": "markdown",
   "metadata": {},
   "source": [
    "## Libraries"
   ]
  },
  {
   "cell_type": "code",
   "execution_count": 1,
   "metadata": {},
   "outputs": [],
   "source": [
    "import pandas as pd\n",
    "import numpy as np"
   ]
  },
  {
   "cell_type": "markdown",
   "metadata": {},
   "source": [
    "## Clean Data"
   ]
  },
  {
   "cell_type": "markdown",
   "metadata": {},
   "source": [
    "Part 1: Data Cleaning"
   ]
  },
  {
   "cell_type": "code",
   "execution_count": 4,
   "metadata": {},
   "outputs": [
    {
     "name": "stdout",
     "output_type": "stream",
     "text": [
      "Original Column Names: Index(['Stock A', 'Stock B', 'Stock C', 'Stock D', 'ETF'], dtype='object')\n",
      "Cleaned Column Names: Index(['Stock A', 'Stock B', 'Stock C', 'Stock D', 'ETF'], dtype='object')\n",
      "\n",
      "Missing Values:\n",
      "Stock A    2\n",
      "Stock B    2\n",
      "Stock C    6\n",
      "Stock D    3\n",
      "ETF        2\n",
      "dtype: int64\n",
      "Warning: 'price' column not found in the dataset!\n",
      "\n",
      "Cleaned Data Overview:\n"
     ]
    },
    {
     "name": "stderr",
     "output_type": "stream",
     "text": [
      "C:\\Users\\sahan\\AppData\\Local\\Temp\\ipykernel_15120\\1022251348.py:19: FutureWarning: DataFrame.fillna with 'method' is deprecated and will raise in a future version. Use obj.ffill() or obj.bfill() instead.\n",
      "  data.fillna(method='ffill', inplace=True)\n"
     ]
    },
    {
     "name": "stdout",
     "output_type": "stream",
     "text": [
      "<class 'pandas.core.frame.DataFrame'>\n",
      "RangeIndex: 10000 entries, 0 to 9999\n",
      "Data columns (total 5 columns):\n",
      " #   Column   Non-Null Count  Dtype \n",
      "---  ------   --------------  ----- \n",
      " 0   Stock A  10000 non-null  object\n",
      " 1   Stock B  10000 non-null  object\n",
      " 2   Stock C  10000 non-null  object\n",
      " 3   Stock D  10000 non-null  object\n",
      " 4   ETF      10000 non-null  object\n",
      "dtypes: object(5)\n",
      "memory usage: 390.8+ KB\n",
      "None\n",
      "\n",
      "First few rows of cleaned data:\n",
      "                Stock A             Stock B             Stock C  \\\n",
      "0     72.82296593982258  248.86456799406784  315.06303215229514   \n",
      "1     72.78638009022255  248.82753736934225    315.298370904706   \n",
      "2     72.58748777663007  249.73617324185588   317.2996026152549   \n",
      "3     72.85777370841753  248.94553779507217   319.4278357721335   \n",
      "4     72.32240712454708   249.0104523089816  319.45008634581694   \n",
      "...                 ...                 ...                 ...   \n",
      "9995  88.15136765010222  133.49536931750757  406.36515789561105   \n",
      "9996  88.10489140257589  132.96381630903056   405.7242185064323   \n",
      "9997  87.45860160935052  133.13412226823633   405.6308684653826   \n",
      "9998  87.34087063712745  132.65375269775137   407.5968363177155   \n",
      "9999  85.80784257096828   132.9733754978256   404.8296348913315   \n",
      "\n",
      "                 Stock D                 ETF  \n",
      "0      62.13885450318027  102.02002819358744  \n",
      "1      62.88303614880522    109.073322883072  \n",
      "2     63.191861836643156    107.832532630003  \n",
      "3      63.53260212860983  115.04142373944143  \n",
      "4     63.649735100785065  115.77710936476478  \n",
      "...                  ...                 ...  \n",
      "9995   82.09921243524023   824.7048084981545  \n",
      "9996   82.07582402783335    822.476295069943  \n",
      "9997   82.69330154179573    820.930064686065  \n",
      "9998   83.03887884129337   822.0358541082397  \n",
      "9999    83.5920887967543   814.4544941999472  \n",
      "\n",
      "[10000 rows x 5 columns]\n"
     ]
    }
   ],
   "source": [
    "import pandas as pd\n",
    "import numpy as np\n",
    "\n",
    "data = pd.read_csv(\"price_data.csv\")\n",
    "\n",
    "# inital data stuffs \n",
    "print(\"Original Column Names:\", data.columns)\n",
    "print(\"Cleaned Column Names:\", data.columns)\n",
    "\n",
    "#cleaning data\n",
    "#missing vals, checks for it. if not ther ethen inputs missing prices with means\n",
    "print(\"\\nMissing Values:\")\n",
    "print(data.isnull().sum()) \n",
    "if 'price' in data.columns:\n",
    "    data['price'].fillna(data['price'].mean(), inplace=True)  # missing prices with mean\n",
    "else:\n",
    "    print(\"Warning: 'price' column not found in the dataset!\")\n",
    "    #fowrd fill with missing vals\n",
    "data.fillna(method='ffill', inplace=True)  \n",
    "\n",
    "#cups and removes them\n",
    "#checks for dups --> removes\n",
    "data.drop_duplicates(inplace=True)\n",
    "\n",
    "\n",
    "#  cleaned verson data overviews\n",
    "print(\"\\nCleaned Data Overview:\")\n",
    "print(data.info())\n",
    "print(\"\\nFirst few rows of cleaned data:\")\n",
    "print(data)\n",
    "\n",
    "# save cleaned data to new file\n",
    "data.to_csv(\"cleaned_price_data.csv\", index=False)\n",
    "\n"
   ]
  },
  {
   "cell_type": "markdown",
   "metadata": {},
   "source": [
    "## Strategy"
   ]
  },
  {
   "cell_type": "code",
   "execution_count": 3,
   "metadata": {},
   "outputs": [],
   "source": [
    "\n",
    "# Step 2: Compute ETF Fair Value\n",
    "def compute_etf_fair_value(stocks: pd.DataFrame, weights: np.ndarray) -> pd.Series:\n",
    "    if len(weights) != stocks.shape[1]:\n",
    "        raise ValueError(\"Mismatch between number of weights and stock columns.\")\n",
    "    \n",
    "    return (stocks * weights).sum(axis=1)\n",
    "\n",
    "# Step 3: Identify Mispricing Events\n",
    "def find_mispricings(fair_value: pd.Series, etf: pd.DataFrame, threshold: float) -> pd.DataFrame:\n",
    "    mispricing = etf['Price'] - fair_value\n",
    "    signals = pd.DataFrame(index=etf.index)\n",
    "\n",
    "    signals['long_entry'] = mispricing < -threshold  # ETF undervalued\n",
    "    signals['short_entry'] = mispricing > threshold  # ETF overvalued\n",
    "\n",
    "    return signals\n",
    "\n",
    "# Step 4: Plot the ETF with trading signals\n",
    "def plot_etf_trading_signals(etf: pd.DataFrame, signals: pd.DataFrame):\n",
    "    plt.figure(figsize=(12, 6))\n",
    "    plt.plot(etf.index, etf['Price'], label='ETF Price', color='black', lw=1.5)\n",
    "    \n",
    "    # Plot long signals (blue arrows)\n",
    "    plt.scatter(etf.index[signals['long_entry']], etf['Price'][signals['long_entry']], \n",
    "                color='blue', marker='^', label='Long Entry', s=100)\n",
    "    \n",
    "    # Plot short signals (red arrows)\n",
    "    plt.scatter(etf.index[signals['short_entry']], etf['Price'][signals['short_entry']], \n",
    "                color='red', marker='v', label='Short Entry', s=100)\n",
    "    \n",
    "    plt.title('ETF Mispricing and Trading Signals')\n",
    "    plt.xlabel('Date')\n",
    "    plt.ylabel('Price')\n",
    "    plt.legend()\n",
    "    plt.grid(True, linestyle='--', alpha=0.6)\n",
    "    plt.show()\n",
    "\n",
    "# Step 5: Run the Full Analysis\n",
    "def run_analysis(stock_file: str, etf_file: str, weights: list[float], threshold: float = 0.5) -> pd.DataFrame:\n",
    "    stocks, etf = load_data(stock_file, etf_file)\n",
    "    \n",
    "    weights_array = np.array(weights)\n",
    "    fair_value = compute_etf_fair_value(stocks, weights_array)\n",
    "    \n",
    "    signals = find_mispricings(fair_value, etf, threshold)\n",
    "    \n",
    "    plot_etf_trading_signals(etf, signals)\n",
    "    \n",
    "    return signals\n"
   ]
  },
  {
   "cell_type": "markdown",
   "metadata": {},
   "source": [
    "## Summary\n",
    "Using Jupyter Notebook and trying out trading strategies. I looked into the best strategy for analyzing stocks and ETFs, and the moving average crossover strategy seemed like a good fit. Here’s how it works: the strategy looks at the short-term (50-day) and long-term (200-day) moving averages, which just means looking at the average price over those time periods. A buy signal happens when the short-term moving average crosses above the long-term one, suggesting a possible upward trend. On the other hand, a sell signal happens when the short-term average crosses below the long-term one, hinting at a potential downward trend. For cleaning the data, I just got rid of any duplicates and filled in the missing values. When it came to setting up the SMA strategy, I used 1 and 0 signals. The \"entry signal\" is a 1 when the short-term moving average crosses above the long-term one, meaning it's time to buy, and a 0 when there's no signal. The \"exit signal\" is a 1 when the short-term moving average crosses below the long-term one, meaning it's time to sell, and a 0 when there's no signal."
   ]
  }
 ],
 "metadata": {
  "kernelspec": {
   "display_name": "venv",
   "language": "python",
   "name": "python3"
  },
  "language_info": {
   "codemirror_mode": {
    "name": "ipython",
    "version": 3
   },
   "file_extension": ".py",
   "mimetype": "text/x-python",
   "name": "python",
   "nbconvert_exporter": "python",
   "pygments_lexer": "ipython3",
   "version": "3.13.2"
  }
 },
 "nbformat": 4,
 "nbformat_minor": 2
}

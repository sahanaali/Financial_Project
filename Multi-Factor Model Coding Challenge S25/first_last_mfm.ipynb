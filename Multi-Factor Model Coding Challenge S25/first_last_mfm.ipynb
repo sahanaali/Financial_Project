{
  "nbformat": 4,
  "nbformat_minor": 0,
  "metadata": {
    "colab": {
      "provenance": []
    },
    "kernelspec": {
      "name": "python3",
      "display_name": "Python 3"
    },
    "language_info": {
      "name": "python"
    }
  },
  "cells": [
    {
      "cell_type": "markdown",
      "source": [
        "# Multi-factor Strategies Coding Challenge - Spring 2025"
      ],
      "metadata": {
        "id": "2qDgZ0KlCOId"
      }
    },
    {
      "cell_type": "code",
      "source": [
        "\"\"\"\n",
        "\n",
        "Your Name:\n",
        "\n",
        "\"\"\""
      ],
      "metadata": {
        "id": "Kalo17tHEMrU"
      },
      "execution_count": null,
      "outputs": []
    },
    {
      "cell_type": "markdown",
      "source": [
        "The Multi-factor teams are dedicated to calculating predicted expected returns of securities and sectors. We research and implement multi-factor models with the goal of calculating the expected forward-looking returns."
      ],
      "metadata": {
        "id": "YoUQze4PDedu"
      }
    },
    {
      "cell_type": "markdown",
      "source": [
        "**Rules:**\n",
        "\n",
        "\n",
        "*   You are absolutely allowed to use LLMs, but you MUST cite any use with a comment on each line written by it.\n",
        "*   Any code not written by you must be cited similarly.\n",
        "*   No machine learning is allowed for this challenge."
      ],
      "metadata": {
        "id": "Q-9imNQvFIaa"
      }
    },
    {
      "cell_type": "markdown",
      "source": [
        "**Hints:**\n",
        "\n",
        "\n",
        "*   Read all of the instructions carefully!\n",
        "*   Comment your code with as much detail as you can. The easier it is for us to follow, the better!\n",
        "*   Above everything else, we are looking to see that you can think creatively, and justify your thought process.\n",
        "*   Don't give up if you get stuck! It's better to submit something that's the best that you can do, instead of quitting and not submitting anything.\n",
        "\n",
        "\n",
        "If you have any questions about this part of the challenge, email Jason Bhalla, the Head of Multifactor Security-Specific Strategies, at jbhalla@stevens.edu."
      ],
      "metadata": {
        "id": "z7-eh_zhEW3-"
      }
    },
    {
      "cell_type": "markdown",
      "source": [
        "# Part 0: Data"
      ],
      "metadata": {
        "id": "-akn1NG1DGoV"
      }
    },
    {
      "cell_type": "markdown",
      "source": [
        "In the following cell, import any libraries you need."
      ],
      "metadata": {
        "id": "z7NpduvuDcZo"
      }
    },
    {
      "cell_type": "code",
      "source": [],
      "metadata": {
        "id": "11KLCIBuDqE1"
      },
      "execution_count": null,
      "outputs": []
    },
    {
      "cell_type": "markdown",
      "source": [
        "In the following cell, write your code to load and preprocess the data given to you for the challenge. All data collection should be done here. (Note: You are allowed to import additional data if you wish."
      ],
      "metadata": {
        "id": "UtYwywvIGa0J"
      }
    },
    {
      "cell_type": "code",
      "source": [],
      "metadata": {
        "id": "RBQ7YBwaGaZt"
      },
      "execution_count": null,
      "outputs": []
    },
    {
      "cell_type": "markdown",
      "source": [
        "In the following cell, write any comments about your code and reasoning, such as why you processed the data in a certain way, what you noticed, where you found any additional data (if you decide to do so), etc."
      ],
      "metadata": {
        "id": "pSVTK1l0DqvG"
      }
    },
    {
      "cell_type": "code",
      "source": [
        "\"\"\"\n",
        "\n",
        "Comments here.\n",
        "\n",
        "\"\"\""
      ],
      "metadata": {
        "id": "4JLQpGM4DvHy"
      },
      "execution_count": null,
      "outputs": []
    },
    {
      "cell_type": "markdown",
      "source": [
        "# Part 1: Capital Asset Pricing Model (CAPM)"
      ],
      "metadata": {
        "id": "9JlqdtkfGEF6"
      }
    },
    {
      "cell_type": "markdown",
      "source": [
        "The Capital Asset Pricing Model (CAPM) is a popular model that describes the relationship between the expected return and the risk of investing in a security.\n",
        "\n",
        "In the following cell, implement the Capital Asset Pricing Model on the data given to you for Part 1.\n",
        "\n",
        "Your final result should be the expected forward-looking returns for the assets given in the data."
      ],
      "metadata": {
        "id": "yBbpqp1nGG5I"
      }
    },
    {
      "cell_type": "code",
      "source": [],
      "metadata": {
        "id": "OfrlwgmuG4Ho"
      },
      "execution_count": null,
      "outputs": []
    },
    {
      "cell_type": "markdown",
      "source": [
        "In the following cell, write any comments about your code and reasoning, such as why you implemented the CAPM in a specific way, what you noticed, what the significance of this is, etc."
      ],
      "metadata": {
        "id": "LPJ0NvGdHRgl"
      }
    },
    {
      "cell_type": "code",
      "source": [
        "\"\"\"\n",
        "\n",
        "Comments here.\n",
        "\n",
        "\"\"\""
      ],
      "metadata": {
        "id": "7F4hNQOJHRLl"
      },
      "execution_count": null,
      "outputs": []
    },
    {
      "cell_type": "markdown",
      "source": [
        "# Part 2: Multi-factor Model"
      ],
      "metadata": {
        "id": "hF2WGKmRHqFy"
      }
    },
    {
      "cell_type": "markdown",
      "source": [
        "The objective of this is to create a multifactor model based on the provided data. The model can be an existing model that you research and implement, or you can use the data to create a new multifactor model of your choice. The only restriction is that your model must include a minimum of 3 factors.\n",
        "\n",
        "Be creative!\n",
        "\n",
        "Your model does not necessarily need to perform well. We are mainly looking to see your creativity and whether you can express your thought process.\n",
        "\n",
        "You are free to pull any additional data, or you can stick with the financial data given to you for this part.\n",
        "\n",
        "In the following cell, implement your three-factor model.\n",
        "\n",
        "Your final result should be the expected forward-looking returns for the 4 stocks."
      ],
      "metadata": {
        "id": "NPPFv2igHsdT"
      }
    },
    {
      "cell_type": "code",
      "source": [],
      "metadata": {
        "id": "_-MRcBhvIoyp"
      },
      "execution_count": null,
      "outputs": []
    },
    {
      "cell_type": "markdown",
      "source": [
        "In the following cell, write any comments about your code and reasoning, such as what your factors were, how you decided on them, what your thought process was, what worked and didn't work, etc. Justify your model as best as you can."
      ],
      "metadata": {
        "id": "EXmB2cPjIpF3"
      }
    },
    {
      "cell_type": "code",
      "source": [
        "\"\"\"\n",
        "\n",
        "Factor 1:\n",
        "Factor 2:\n",
        "Factor 3:\n",
        "Other Factors:\n",
        "\n",
        "Comments here.\n",
        "\n",
        "\"\"\""
      ],
      "metadata": {
        "id": "rtkvpwscJEgM"
      },
      "execution_count": null,
      "outputs": []
    },
    {
      "cell_type": "markdown",
      "source": [
        "# Part 3: Backtesting"
      ],
      "metadata": {
        "id": "_T4zgY7LJkpe"
      }
    },
    {
      "cell_type": "markdown",
      "source": [
        "A very important part of the model-building process is backtesting. Backtesting is where you compare your model's performance against a benchmark to see how well it performs. In this section, you will backtest your expected forward-looking returns from your multifactor model against the actual forward-looking returns for each stock."
      ],
      "metadata": {
        "id": "_joolQtLJmsc"
      }
    },
    {
      "cell_type": "markdown",
      "source": [
        "In the following cell, backtest your CAPM model against actual returns for the stocks. In addition to plotting the returns, provide the Sharpe Ratio, Cumulative Returns, and Volatility against the S&P 500."
      ],
      "metadata": {
        "id": "OEVKbIhjKbpu"
      }
    },
    {
      "cell_type": "code",
      "source": [],
      "metadata": {
        "id": "DWE4_oenKtIc"
      },
      "execution_count": null,
      "outputs": []
    },
    {
      "cell_type": "markdown",
      "source": [
        "In the following cell, write any comments about your code and reasoning, such as what the takeaways are from the backtesting, what you noticed about the results, what they tell you, what you would do differently next time, etc."
      ],
      "metadata": {
        "id": "EgSZ3A0uK5Q2"
      }
    },
    {
      "cell_type": "code",
      "source": [
        "\"\"\"\n",
        "\n",
        "Comments here.\n",
        "\n",
        "\"\"\""
      ],
      "metadata": {
        "id": "KY5JP3Y9LJDS"
      },
      "execution_count": null,
      "outputs": []
    },
    {
      "cell_type": "markdown",
      "source": [
        "# Part 4: Comparison"
      ],
      "metadata": {
        "id": "o4st5bJGOLyU"
      }
    },
    {
      "cell_type": "markdown",
      "source": [
        "In the following cell, compare the CAPM model with your multi-factor model. What performed better? Why do you think that is?"
      ],
      "metadata": {
        "id": "vxtE5gUwOObk"
      }
    },
    {
      "cell_type": "code",
      "source": [
        "\"\"\"\n",
        "\n",
        "Comments here.\n",
        "\n",
        "\"\"\""
      ],
      "metadata": {
        "id": "vYaF4c-rOVRd"
      },
      "execution_count": null,
      "outputs": []
    },
    {
      "cell_type": "markdown",
      "source": [
        "# References, Reflection, and Submission"
      ],
      "metadata": {
        "id": "VZqSUCaULOgb"
      }
    },
    {
      "cell_type": "markdown",
      "source": [
        "In the following cell, list any references and resources you used to help you with this coding challenge (including ChatGPT), and what you got out of each resource. There's nothing wrong with getting help, but it's important to cite when you do!"
      ],
      "metadata": {
        "id": "mklOU4uJLVaf"
      }
    },
    {
      "cell_type": "code",
      "source": [
        "\"\"\"\n",
        "\n",
        "Comments here.\n",
        "\n",
        "\"\"\""
      ],
      "metadata": {
        "id": "fqrIrLx_LVDC"
      },
      "execution_count": null,
      "outputs": []
    },
    {
      "cell_type": "markdown",
      "source": [
        "In the following cell, write a brief reflection on what you learned from this challenge. What did you do well? What do you wish you had done differently? Is there anything else you would like to add about your code or process that would help us understand?"
      ],
      "metadata": {
        "id": "NHHy70EpLhPh"
      }
    },
    {
      "cell_type": "code",
      "source": [
        "\"\"\"\n",
        "\n",
        "Comments here.\n",
        "\n",
        "\"\"\""
      ],
      "metadata": {
        "id": "nR34ZncELhAB"
      },
      "execution_count": null,
      "outputs": []
    },
    {
      "cell_type": "markdown",
      "source": [
        "Submit this template file in the format \"first_last_mfm.ipynb\".\n",
        "\n",
        "Example: \"jason_bhalla_mfm.ipynb\""
      ],
      "metadata": {
        "id": "awN59BLhLvwT"
      }
    }
  ]
}